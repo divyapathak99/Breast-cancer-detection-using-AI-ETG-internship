{
  "nbformat": 4,
  "nbformat_minor": 0,
  "metadata": {
    "colab": {
      "name": "breast_cancer_detection.ipynb",
      "provenance": []
    },
    "kernelspec": {
      "name": "python3",
      "display_name": "Python 3"
    },
    "language_info": {
      "name": "python"
    }
  },
  "cells": [
    {
      "cell_type": "code",
      "metadata": {
        "id": "bbPeWk2m0FMZ"
      },
      "source": [
        "from sklearn.datasets import load_breast_cancer\n",
        "from sklearn.preprocessing import StandardScaler\n",
        "\n",
        "from keras.models import Sequential\n",
        "from keras.layers import Dense\n",
        "\n",
        "import pandas as pd\n",
        "import numpy as np"
      ],
      "execution_count": null,
      "outputs": []
    },
    {
      "cell_type": "code",
      "metadata": {
        "id": "-7O0M9Dc0NAm"
      },
      "source": [
        "data = load_breast_cancer()"
      ],
      "execution_count": null,
      "outputs": []
    },
    {
      "cell_type": "code",
      "metadata": {
        "colab": {
          "base_uri": "https://localhost:8080/"
        },
        "id": "OCZwuRio0TEs",
        "outputId": "5a4ac853-6725-4c16-d4c9-8e023388ad95"
      },
      "source": [
        "data.keys()"
      ],
      "execution_count": null,
      "outputs": [
        {
          "output_type": "execute_result",
          "data": {
            "text/plain": [
              "dict_keys(['data', 'target', 'target_names', 'DESCR', 'feature_names', 'filename'])"
            ]
          },
          "metadata": {},
          "execution_count": 3
        }
      ]
    },
    {
      "cell_type": "code",
      "metadata": {
        "colab": {
          "base_uri": "https://localhost:8080/"
        },
        "id": "ZKLFSUBv0VBz",
        "outputId": "0300e895-da90-42f0-afb0-86397080debb"
      },
      "source": [
        "#print(data['DESCR'])\n",
        "#data['data'].shape\n",
        "#data['feature_names']\n",
        "#data['data'][0]"
      ],
      "execution_count": null,
      "outputs": [
        {
          "output_type": "execute_result",
          "data": {
            "text/plain": [
              "array([1.799e+01, 1.038e+01, 1.228e+02, 1.001e+03, 1.184e-01, 2.776e-01,\n",
              "       3.001e-01, 1.471e-01, 2.419e-01, 7.871e-02, 1.095e+00, 9.053e-01,\n",
              "       8.589e+00, 1.534e+02, 6.399e-03, 4.904e-02, 5.373e-02, 1.587e-02,\n",
              "       3.003e-02, 6.193e-03, 2.538e+01, 1.733e+01, 1.846e+02, 2.019e+03,\n",
              "       1.622e-01, 6.656e-01, 7.119e-01, 2.654e-01, 4.601e-01, 1.189e-01])"
            ]
          },
          "metadata": {},
          "execution_count": 7
        }
      ]
    },
    {
      "cell_type": "code",
      "metadata": {
        "colab": {
          "base_uri": "https://localhost:8080/"
        },
        "id": "ohBAYl3b0bfK",
        "outputId": "0f051ae9-bf70-4075-91ce-08ed0b77bc45"
      },
      "source": [
        "j = 0\n",
        "for i in data['feature_names']:\n",
        "  print(i,\":\",data['data'][0][j])\n",
        "  j+=1"
      ],
      "execution_count": null,
      "outputs": [
        {
          "output_type": "stream",
          "name": "stdout",
          "text": [
            "mean radius : 17.99\n",
            "mean texture : 10.38\n",
            "mean perimeter : 122.8\n",
            "mean area : 1001.0\n",
            "mean smoothness : 0.1184\n",
            "mean compactness : 0.2776\n",
            "mean concavity : 0.3001\n",
            "mean concave points : 0.1471\n",
            "mean symmetry : 0.2419\n",
            "mean fractal dimension : 0.07871\n",
            "radius error : 1.095\n",
            "texture error : 0.9053\n",
            "perimeter error : 8.589\n",
            "area error : 153.4\n",
            "smoothness error : 0.006399\n",
            "compactness error : 0.04904\n",
            "concavity error : 0.05373\n",
            "concave points error : 0.01587\n",
            "symmetry error : 0.03003\n",
            "fractal dimension error : 0.006193\n",
            "worst radius : 25.38\n",
            "worst texture : 17.33\n",
            "worst perimeter : 184.6\n",
            "worst area : 2019.0\n",
            "worst smoothness : 0.1622\n",
            "worst compactness : 0.6656\n",
            "worst concavity : 0.7119\n",
            "worst concave points : 0.2654\n",
            "worst symmetry : 0.4601\n",
            "worst fractal dimension : 0.1189\n"
          ]
        }
      ]
    },
    {
      "cell_type": "code",
      "metadata": {
        "id": "REeDFAeM055K"
      },
      "source": [
        "feature = data['data']\n",
        "label = data['target']"
      ],
      "execution_count": null,
      "outputs": []
    },
    {
      "cell_type": "code",
      "metadata": {
        "id": "5Nn-xx1V1IOg"
      },
      "source": [
        "#data['target_names']\n",
        "#feature.shape\n",
        "#label.shape"
      ],
      "execution_count": null,
      "outputs": []
    },
    {
      "cell_type": "code",
      "metadata": {
        "id": "XWZNWfP31Lki"
      },
      "source": [
        "scale = StandardScaler()\n",
        "\n",
        "feature = scale.fit_transform(feature)"
      ],
      "execution_count": null,
      "outputs": []
    },
    {
      "cell_type": "code",
      "metadata": {
        "colab": {
          "base_uri": "https://localhost:8080/"
        },
        "id": "geNh8UxS1WPK",
        "outputId": "aebf9c67-4b23-4d22-c254-c0cab915a93c"
      },
      "source": [
        "j = 0\n",
        "for i in data['feature_names']:\n",
        "  print(i,\":\",feature[0][j])\n",
        "  j+=1"
      ],
      "execution_count": null,
      "outputs": [
        {
          "output_type": "stream",
          "name": "stdout",
          "text": [
            "mean radius : 1.0970639814699807\n",
            "mean texture : -2.0733350146975935\n",
            "mean perimeter : 1.2699336881399383\n",
            "mean area : 0.9843749048031144\n",
            "mean smoothness : 1.568466329243428\n",
            "mean compactness : 3.2835146709868264\n",
            "mean concavity : 2.652873983743168\n",
            "mean concave points : 2.532475216403245\n",
            "mean symmetry : 2.2175150059646405\n",
            "mean fractal dimension : 2.255746885296269\n",
            "radius error : 2.4897339267376193\n",
            "texture error : -0.5652650590684639\n",
            "perimeter error : 2.833030865855184\n",
            "area error : 2.4875775569611043\n",
            "smoothness error : -0.21400164666895383\n",
            "compactness error : 1.3168615683959484\n",
            "concavity error : 0.72402615808036\n",
            "concave points error : 0.6608199414286064\n",
            "symmetry error : 1.1487566671861758\n",
            "fractal dimension error : 0.9070830809973359\n",
            "worst radius : 1.8866896251792757\n",
            "worst texture : -1.3592934737640827\n",
            "worst perimeter : 2.3036006236225606\n",
            "worst area : 2.0012374893299207\n",
            "worst smoothness : 1.3076862710715387\n",
            "worst compactness : 2.616665023512603\n",
            "worst concavity : 2.1095263465722556\n",
            "worst concave points : 2.296076127561788\n",
            "worst symmetry : 2.750622244124955\n",
            "worst fractal dimension : 1.9370146123781782\n"
          ]
        }
      ]
    },
    {
      "cell_type": "code",
      "metadata": {
        "colab": {
          "base_uri": "https://localhost:8080/"
        },
        "id": "4oxd29BN1ZzZ",
        "outputId": "399a0bf9-8e52-49e2-8989-e26fbbe75f10"
      },
      "source": [
        "print(feature[568])\n",
        "print(data['target_names'][label[568]],label[568])"
      ],
      "execution_count": null,
      "outputs": [
        {
          "output_type": "stream",
          "name": "stdout",
          "text": [
            "[-1.80840125  1.22179204 -1.81438851 -1.34778924 -3.11208479 -1.15075248\n",
            " -1.11487284 -1.26181958 -0.8200699  -0.56103238 -0.07027874  0.3830925\n",
            " -0.15744905 -0.46615196  0.04934236 -1.16351619 -1.05750068 -1.91344745\n",
            "  0.75282996 -0.382754   -1.41089258  0.76418957 -1.43273495 -1.07581292\n",
            " -1.85901852 -1.2075525  -1.30583065 -1.74506282 -0.04813821 -0.75120669]\n",
            "benign 1\n"
          ]
        }
      ]
    },
    {
      "cell_type": "code",
      "metadata": {
        "id": "6Qi2uaps1slc"
      },
      "source": [
        "df_frt = pd.DataFrame(feature , columns = data['feature_names'])\n",
        "df_lbl = pd.DataFrame(label , columns = ['label'])\n",
        "df = pd.concat([df_frt, df_lbl], axis=1)\n",
        "df = df.sample(frac = 1)\n",
        "\n",
        "feature = df.values[ : , : 30]\n",
        "label = df.values[ : ,30: ]"
      ],
      "execution_count": null,
      "outputs": []
    },
    {
      "cell_type": "code",
      "metadata": {
        "colab": {
          "base_uri": "https://localhost:8080/",
          "height": 470
        },
        "id": "kq3faHun108I",
        "outputId": "689a4c76-bda5-4103-a3ea-d01746ea3277"
      },
      "source": [
        "df"
      ],
      "execution_count": null,
      "outputs": [
        {
          "output_type": "execute_result",
          "data": {
            "text/html": [
              "<div>\n",
              "<style scoped>\n",
              "    .dataframe tbody tr th:only-of-type {\n",
              "        vertical-align: middle;\n",
              "    }\n",
              "\n",
              "    .dataframe tbody tr th {\n",
              "        vertical-align: top;\n",
              "    }\n",
              "\n",
              "    .dataframe thead th {\n",
              "        text-align: right;\n",
              "    }\n",
              "</style>\n",
              "<table border=\"1\" class=\"dataframe\">\n",
              "  <thead>\n",
              "    <tr style=\"text-align: right;\">\n",
              "      <th></th>\n",
              "      <th>mean radius</th>\n",
              "      <th>mean texture</th>\n",
              "      <th>mean perimeter</th>\n",
              "      <th>mean area</th>\n",
              "      <th>mean smoothness</th>\n",
              "      <th>mean compactness</th>\n",
              "      <th>mean concavity</th>\n",
              "      <th>mean concave points</th>\n",
              "      <th>mean symmetry</th>\n",
              "      <th>mean fractal dimension</th>\n",
              "      <th>radius error</th>\n",
              "      <th>texture error</th>\n",
              "      <th>perimeter error</th>\n",
              "      <th>area error</th>\n",
              "      <th>smoothness error</th>\n",
              "      <th>compactness error</th>\n",
              "      <th>concavity error</th>\n",
              "      <th>concave points error</th>\n",
              "      <th>symmetry error</th>\n",
              "      <th>fractal dimension error</th>\n",
              "      <th>worst radius</th>\n",
              "      <th>worst texture</th>\n",
              "      <th>worst perimeter</th>\n",
              "      <th>worst area</th>\n",
              "      <th>worst smoothness</th>\n",
              "      <th>worst compactness</th>\n",
              "      <th>worst concavity</th>\n",
              "      <th>worst concave points</th>\n",
              "      <th>worst symmetry</th>\n",
              "      <th>worst fractal dimension</th>\n",
              "      <th>label</th>\n",
              "    </tr>\n",
              "  </thead>\n",
              "  <tbody>\n",
              "    <tr>\n",
              "      <th>488</th>\n",
              "      <td>-0.695066</td>\n",
              "      <td>-0.725963</td>\n",
              "      <td>-0.678775</td>\n",
              "      <td>-0.666627</td>\n",
              "      <td>1.169940</td>\n",
              "      <td>-0.221940</td>\n",
              "      <td>-0.577646</td>\n",
              "      <td>-0.453952</td>\n",
              "      <td>0.151081</td>\n",
              "      <td>0.171869</td>\n",
              "      <td>-0.122251</td>\n",
              "      <td>-0.114038</td>\n",
              "      <td>-0.154479</td>\n",
              "      <td>-0.280898</td>\n",
              "      <td>0.652367</td>\n",
              "      <td>-0.701869</td>\n",
              "      <td>-0.443764</td>\n",
              "      <td>-0.020461</td>\n",
              "      <td>0.118379</td>\n",
              "      <td>-0.220106</td>\n",
              "      <td>-0.610726</td>\n",
              "      <td>-0.665579</td>\n",
              "      <td>-0.616305</td>\n",
              "      <td>-0.581488</td>\n",
              "      <td>0.886862</td>\n",
              "      <td>-0.677903</td>\n",
              "      <td>-0.591000</td>\n",
              "      <td>-0.250572</td>\n",
              "      <td>-0.156530</td>\n",
              "      <td>-0.205361</td>\n",
              "      <td>1</td>\n",
              "    </tr>\n",
              "    <tr>\n",
              "      <th>524</th>\n",
              "      <td>-1.215664</td>\n",
              "      <td>-0.839989</td>\n",
              "      <td>-1.193240</td>\n",
              "      <td>-1.028681</td>\n",
              "      <td>-0.102498</td>\n",
              "      <td>-0.381891</td>\n",
              "      <td>-0.822342</td>\n",
              "      <td>-0.638637</td>\n",
              "      <td>-1.550259</td>\n",
              "      <td>0.866495</td>\n",
              "      <td>-0.560770</td>\n",
              "      <td>-0.001548</td>\n",
              "      <td>-0.440607</td>\n",
              "      <td>-0.552179</td>\n",
              "      <td>0.563697</td>\n",
              "      <td>-0.282697</td>\n",
              "      <td>-0.705373</td>\n",
              "      <td>-0.810260</td>\n",
              "      <td>-0.278759</td>\n",
              "      <td>-0.113817</td>\n",
              "      <td>-1.041457</td>\n",
              "      <td>-0.437598</td>\n",
              "      <td>-0.981182</td>\n",
              "      <td>-0.886134</td>\n",
              "      <td>0.417818</td>\n",
              "      <td>-0.190620</td>\n",
              "      <td>-0.901208</td>\n",
              "      <td>-0.751071</td>\n",
              "      <td>-0.645099</td>\n",
              "      <td>0.451317</td>\n",
              "      <td>1</td>\n",
              "    </tr>\n",
              "    <tr>\n",
              "      <th>384</th>\n",
              "      <td>-0.240643</td>\n",
              "      <td>-1.296095</td>\n",
              "      <td>-0.254516</td>\n",
              "      <td>-0.321637</td>\n",
              "      <td>-0.905956</td>\n",
              "      <td>-0.352327</td>\n",
              "      <td>-0.477457</td>\n",
              "      <td>-0.523080</td>\n",
              "      <td>-0.710542</td>\n",
              "      <td>-0.972138</td>\n",
              "      <td>-0.800783</td>\n",
              "      <td>-1.244737</td>\n",
              "      <td>-0.630698</td>\n",
              "      <td>-0.551739</td>\n",
              "      <td>-0.923364</td>\n",
              "      <td>-0.265371</td>\n",
              "      <td>-0.119820</td>\n",
              "      <td>-0.539856</td>\n",
              "      <td>-0.718274</td>\n",
              "      <td>-0.447057</td>\n",
              "      <td>-0.420210</td>\n",
              "      <td>-1.352780</td>\n",
              "      <td>-0.317851</td>\n",
              "      <td>-0.451578</td>\n",
              "      <td>-0.691230</td>\n",
              "      <td>0.090554</td>\n",
              "      <td>0.069140</td>\n",
              "      <td>-0.348327</td>\n",
              "      <td>-0.266539</td>\n",
              "      <td>-0.595488</td>\n",
              "      <td>1</td>\n",
              "    </tr>\n",
              "    <tr>\n",
              "      <th>421</th>\n",
              "      <td>0.159817</td>\n",
              "      <td>-1.235591</td>\n",
              "      <td>0.257479</td>\n",
              "      <td>0.003444</td>\n",
              "      <td>0.479635</td>\n",
              "      <td>1.502076</td>\n",
              "      <td>0.705598</td>\n",
              "      <td>0.363201</td>\n",
              "      <td>1.001751</td>\n",
              "      <td>1.596561</td>\n",
              "      <td>0.508999</td>\n",
              "      <td>0.533683</td>\n",
              "      <td>0.954885</td>\n",
              "      <td>0.200500</td>\n",
              "      <td>0.978380</td>\n",
              "      <td>1.506886</td>\n",
              "      <td>0.692527</td>\n",
              "      <td>0.649465</td>\n",
              "      <td>0.724982</td>\n",
              "      <td>0.623773</td>\n",
              "      <td>0.039513</td>\n",
              "      <td>-1.194821</td>\n",
              "      <td>0.203699</td>\n",
              "      <td>-0.125485</td>\n",
              "      <td>-0.051226</td>\n",
              "      <td>0.694887</td>\n",
              "      <td>0.238492</td>\n",
              "      <td>-0.057956</td>\n",
              "      <td>-0.119321</td>\n",
              "      <td>0.450762</td>\n",
              "      <td>1</td>\n",
              "    </tr>\n",
              "    <tr>\n",
              "      <th>285</th>\n",
              "      <td>-0.439453</td>\n",
              "      <td>-0.207027</td>\n",
              "      <td>-0.500009</td>\n",
              "      <td>-0.471806</td>\n",
              "      <td>-0.884606</td>\n",
              "      <td>-1.178422</td>\n",
              "      <td>-1.091521</td>\n",
              "      <td>-1.186398</td>\n",
              "      <td>-0.418466</td>\n",
              "      <td>-0.602143</td>\n",
              "      <td>-0.481007</td>\n",
              "      <td>0.241574</td>\n",
              "      <td>-0.566839</td>\n",
              "      <td>-0.393546</td>\n",
              "      <td>-0.219335</td>\n",
              "      <td>-0.976398</td>\n",
              "      <td>-0.995829</td>\n",
              "      <td>-1.439146</td>\n",
              "      <td>0.625698</td>\n",
              "      <td>-0.673251</td>\n",
              "      <td>-0.573451</td>\n",
              "      <td>-0.422942</td>\n",
              "      <td>-0.646389</td>\n",
              "      <td>-0.556350</td>\n",
              "      <td>-1.252330</td>\n",
              "      <td>-1.196102</td>\n",
              "      <td>-1.279065</td>\n",
              "      <td>-1.611495</td>\n",
              "      <td>-0.640246</td>\n",
              "      <td>-1.088135</td>\n",
              "      <td>1</td>\n",
              "    </tr>\n",
              "    <tr>\n",
              "      <th>...</th>\n",
              "      <td>...</td>\n",
              "      <td>...</td>\n",
              "      <td>...</td>\n",
              "      <td>...</td>\n",
              "      <td>...</td>\n",
              "      <td>...</td>\n",
              "      <td>...</td>\n",
              "      <td>...</td>\n",
              "      <td>...</td>\n",
              "      <td>...</td>\n",
              "      <td>...</td>\n",
              "      <td>...</td>\n",
              "      <td>...</td>\n",
              "      <td>...</td>\n",
              "      <td>...</td>\n",
              "      <td>...</td>\n",
              "      <td>...</td>\n",
              "      <td>...</td>\n",
              "      <td>...</td>\n",
              "      <td>...</td>\n",
              "      <td>...</td>\n",
              "      <td>...</td>\n",
              "      <td>...</td>\n",
              "      <td>...</td>\n",
              "      <td>...</td>\n",
              "      <td>...</td>\n",
              "      <td>...</td>\n",
              "      <td>...</td>\n",
              "      <td>...</td>\n",
              "      <td>...</td>\n",
              "      <td>...</td>\n",
              "    </tr>\n",
              "    <tr>\n",
              "      <th>419</th>\n",
              "      <td>-0.842753</td>\n",
              "      <td>0.493420</td>\n",
              "      <td>-0.865778</td>\n",
              "      <td>-0.780960</td>\n",
              "      <td>0.387120</td>\n",
              "      <td>-0.844497</td>\n",
              "      <td>-1.002443</td>\n",
              "      <td>-0.984276</td>\n",
              "      <td>-0.717843</td>\n",
              "      <td>-0.192455</td>\n",
              "      <td>-0.428312</td>\n",
              "      <td>0.836678</td>\n",
              "      <td>-0.444567</td>\n",
              "      <td>-0.469672</td>\n",
              "      <td>-0.044328</td>\n",
              "      <td>-0.896252</td>\n",
              "      <td>-0.826330</td>\n",
              "      <td>-0.914398</td>\n",
              "      <td>0.774624</td>\n",
              "      <td>-0.656230</td>\n",
              "      <td>-0.809525</td>\n",
              "      <td>0.528066</td>\n",
              "      <td>-0.834040</td>\n",
              "      <td>-0.742864</td>\n",
              "      <td>-0.182734</td>\n",
              "      <td>-0.912638</td>\n",
              "      <td>-1.133983</td>\n",
              "      <td>-1.089406</td>\n",
              "      <td>0.121729</td>\n",
              "      <td>-0.704657</td>\n",
              "      <td>1</td>\n",
              "    </tr>\n",
              "    <tr>\n",
              "      <th>454</th>\n",
              "      <td>-0.428092</td>\n",
              "      <td>-0.497911</td>\n",
              "      <td>-0.467469</td>\n",
              "      <td>-0.460714</td>\n",
              "      <td>-0.749392</td>\n",
              "      <td>-0.948351</td>\n",
              "      <td>-0.742492</td>\n",
              "      <td>-0.675780</td>\n",
              "      <td>-0.046070</td>\n",
              "      <td>-0.643253</td>\n",
              "      <td>-0.851673</td>\n",
              "      <td>-0.996897</td>\n",
              "      <td>-0.866333</td>\n",
              "      <td>-0.594422</td>\n",
              "      <td>-1.051036</td>\n",
              "      <td>-0.946721</td>\n",
              "      <td>-0.641048</td>\n",
              "      <td>-0.796147</td>\n",
              "      <td>-0.540288</td>\n",
              "      <td>-0.815852</td>\n",
              "      <td>-0.399502</td>\n",
              "      <td>-0.574386</td>\n",
              "      <td>-0.465887</td>\n",
              "      <td>-0.434351</td>\n",
              "      <td>-0.432599</td>\n",
              "      <td>-0.652457</td>\n",
              "      <td>-0.400538</td>\n",
              "      <td>-0.245091</td>\n",
              "      <td>0.597356</td>\n",
              "      <td>-0.589947</td>\n",
              "      <td>1</td>\n",
              "    </tr>\n",
              "    <tr>\n",
              "      <th>298</th>\n",
              "      <td>0.037691</td>\n",
              "      <td>-0.260550</td>\n",
              "      <td>-0.030853</td>\n",
              "      <td>-0.061970</td>\n",
              "      <td>-2.177683</td>\n",
              "      <td>-0.988149</td>\n",
              "      <td>-0.804137</td>\n",
              "      <td>-0.907410</td>\n",
              "      <td>-0.644825</td>\n",
              "      <td>-0.983478</td>\n",
              "      <td>-0.632233</td>\n",
              "      <td>-0.993995</td>\n",
              "      <td>-0.596541</td>\n",
              "      <td>-0.435130</td>\n",
              "      <td>-1.290712</td>\n",
              "      <td>-0.654362</td>\n",
              "      <td>-0.699736</td>\n",
              "      <td>-1.062982</td>\n",
              "      <td>-1.151735</td>\n",
              "      <td>-0.695190</td>\n",
              "      <td>-0.010186</td>\n",
              "      <td>-0.067942</td>\n",
              "      <td>-0.043523</td>\n",
              "      <td>-0.107027</td>\n",
              "      <td>-1.662195</td>\n",
              "      <td>-0.238966</td>\n",
              "      <td>-0.555018</td>\n",
              "      <td>-0.598500</td>\n",
              "      <td>-0.428317</td>\n",
              "      <td>-0.398208</td>\n",
              "      <td>1</td>\n",
              "    </tr>\n",
              "    <tr>\n",
              "      <th>373</th>\n",
              "      <td>1.849702</td>\n",
              "      <td>-0.451369</td>\n",
              "      <td>1.764216</td>\n",
              "      <td>1.934305</td>\n",
              "      <td>-0.135234</td>\n",
              "      <td>0.061763</td>\n",
              "      <td>0.802271</td>\n",
              "      <td>1.044420</td>\n",
              "      <td>-0.878485</td>\n",
              "      <td>-1.136580</td>\n",
              "      <td>0.752621</td>\n",
              "      <td>-1.014859</td>\n",
              "      <td>0.620244</td>\n",
              "      <td>0.807087</td>\n",
              "      <td>-0.276671</td>\n",
              "      <td>-0.364855</td>\n",
              "      <td>-0.168561</td>\n",
              "      <td>0.084976</td>\n",
              "      <td>-0.942269</td>\n",
              "      <td>-0.788239</td>\n",
              "      <td>1.884619</td>\n",
              "      <td>-0.408286</td>\n",
              "      <td>1.773413</td>\n",
              "      <td>1.872910</td>\n",
              "      <td>1.044671</td>\n",
              "      <td>0.325926</td>\n",
              "      <td>0.689459</td>\n",
              "      <td>1.470795</td>\n",
              "      <td>-0.342574</td>\n",
              "      <td>-0.742340</td>\n",
              "      <td>0</td>\n",
              "    </tr>\n",
              "    <tr>\n",
              "      <th>500</th>\n",
              "      <td>0.259222</td>\n",
              "      <td>-0.593320</td>\n",
              "      <td>0.278486</td>\n",
              "      <td>0.098153</td>\n",
              "      <td>0.175759</td>\n",
              "      <td>0.607566</td>\n",
              "      <td>-0.145504</td>\n",
              "      <td>0.322447</td>\n",
              "      <td>-0.524343</td>\n",
              "      <td>0.835308</td>\n",
              "      <td>-0.119725</td>\n",
              "      <td>-0.679569</td>\n",
              "      <td>-0.278237</td>\n",
              "      <td>-0.120945</td>\n",
              "      <td>-0.972699</td>\n",
              "      <td>-0.407331</td>\n",
              "      <td>-0.395687</td>\n",
              "      <td>-0.284862</td>\n",
              "      <td>-1.209853</td>\n",
              "      <td>-0.211028</td>\n",
              "      <td>0.101638</td>\n",
              "      <td>-0.854478</td>\n",
              "      <td>0.072641</td>\n",
              "      <td>-0.041633</td>\n",
              "      <td>-0.827122</td>\n",
              "      <td>-0.233241</td>\n",
              "      <td>-0.415410</td>\n",
              "      <td>-0.194995</td>\n",
              "      <td>-1.170878</td>\n",
              "      <td>0.085572</td>\n",
              "      <td>1</td>\n",
              "    </tr>\n",
              "  </tbody>\n",
              "</table>\n",
              "<p>569 rows × 31 columns</p>\n",
              "</div>"
            ],
            "text/plain": [
              "     mean radius  mean texture  ...  worst fractal dimension  label\n",
              "488    -0.695066     -0.725963  ...                -0.205361      1\n",
              "524    -1.215664     -0.839989  ...                 0.451317      1\n",
              "384    -0.240643     -1.296095  ...                -0.595488      1\n",
              "421     0.159817     -1.235591  ...                 0.450762      1\n",
              "285    -0.439453     -0.207027  ...                -1.088135      1\n",
              "..           ...           ...  ...                      ...    ...\n",
              "419    -0.842753      0.493420  ...                -0.704657      1\n",
              "454    -0.428092     -0.497911  ...                -0.589947      1\n",
              "298     0.037691     -0.260550  ...                -0.398208      1\n",
              "373     1.849702     -0.451369  ...                -0.742340      0\n",
              "500     0.259222     -0.593320  ...                 0.085572      1\n",
              "\n",
              "[569 rows x 31 columns]"
            ]
          },
          "metadata": {},
          "execution_count": 21
        }
      ]
    },
    {
      "cell_type": "code",
      "metadata": {
        "id": "__pkM14b2MQu"
      },
      "source": [
        "#500 Training\n",
        "X_train = feature[:500]\n",
        "y_train = label[:500]\n",
        "\n",
        "#35 Validation\n",
        "X_val = feature[500:535]\n",
        "y_val = label[500:535]\n",
        "\n",
        "#34 Testing\n",
        "X_test = feature[535:]\n",
        "y_test = label[535:]"
      ],
      "execution_count": null,
      "outputs": []
    },
    {
      "cell_type": "code",
      "metadata": {
        "id": "AFblUCST2OQb"
      },
      "source": [
        "model = Sequential()\n",
        "\n",
        "model.add(Dense(32, activation = 'relu', input_dim = 30))\n",
        "model.add(Dense(64, activation = 'relu'))\n",
        "model.add(Dense(128, activation = 'relu'))\n",
        "model.add(Dense(64, activation = 'relu'))\n",
        "model.add(Dense(32, activation = 'relu'))\n",
        "model.add(Dense(1, activation = 'sigmoid'))\n",
        "\n",
        "model.compile( loss = 'binary_crossentropy' , optimizer = 'adam' , metrics = ['accuracy'])\n"
      ],
      "execution_count": null,
      "outputs": []
    },
    {
      "cell_type": "code",
      "metadata": {
        "colab": {
          "base_uri": "https://localhost:8080/"
        },
        "id": "N2y-oNch2Yfh",
        "outputId": "008f8537-48ad-4cf4-ca4f-367c9b108112"
      },
      "source": [
        "model.fit( X_train , y_train, epochs = 10, batch_size = 5, validation_data = (X_val, y_val))"
      ],
      "execution_count": null,
      "outputs": [
        {
          "output_type": "stream",
          "name": "stdout",
          "text": [
            "Epoch 1/10\n",
            "100/100 [==============================] - 1s 4ms/step - loss: 0.2532 - accuracy: 0.8920 - val_loss: 0.0676 - val_accuracy: 0.9714\n",
            "Epoch 2/10\n",
            "100/100 [==============================] - 0s 2ms/step - loss: 0.1057 - accuracy: 0.9580 - val_loss: 0.0524 - val_accuracy: 1.0000\n",
            "Epoch 3/10\n",
            "100/100 [==============================] - 0s 2ms/step - loss: 0.0678 - accuracy: 0.9800 - val_loss: 0.0277 - val_accuracy: 1.0000\n",
            "Epoch 4/10\n",
            "100/100 [==============================] - 0s 2ms/step - loss: 0.0613 - accuracy: 0.9840 - val_loss: 0.0286 - val_accuracy: 1.0000\n",
            "Epoch 5/10\n",
            "100/100 [==============================] - 0s 2ms/step - loss: 0.0527 - accuracy: 0.9840 - val_loss: 0.0474 - val_accuracy: 0.9714\n",
            "Epoch 6/10\n",
            "100/100 [==============================] - 0s 2ms/step - loss: 0.0380 - accuracy: 0.9900 - val_loss: 0.0265 - val_accuracy: 0.9714\n",
            "Epoch 7/10\n",
            "100/100 [==============================] - 0s 2ms/step - loss: 0.0364 - accuracy: 0.9880 - val_loss: 0.0127 - val_accuracy: 1.0000\n",
            "Epoch 8/10\n",
            "100/100 [==============================] - 0s 2ms/step - loss: 0.0311 - accuracy: 0.9880 - val_loss: 0.0829 - val_accuracy: 0.9714\n",
            "Epoch 9/10\n",
            "100/100 [==============================] - 0s 2ms/step - loss: 0.0202 - accuracy: 0.9920 - val_loss: 0.0316 - val_accuracy: 1.0000\n",
            "Epoch 10/10\n",
            "100/100 [==============================] - 0s 2ms/step - loss: 0.0236 - accuracy: 0.9920 - val_loss: 0.0584 - val_accuracy: 0.9714\n"
          ]
        },
        {
          "output_type": "execute_result",
          "data": {
            "text/plain": [
              "<keras.callbacks.History at 0x7f6d6caebcd0>"
            ]
          },
          "metadata": {},
          "execution_count": 24
        }
      ]
    },
    {
      "cell_type": "code",
      "metadata": {
        "colab": {
          "base_uri": "https://localhost:8080/"
        },
        "id": "z8ULnd052eva",
        "outputId": "3c6a29b4-7eed-456e-979f-8035a8445397"
      },
      "source": [
        "model.evaluate(X_test , y_test)"
      ],
      "execution_count": null,
      "outputs": [
        {
          "output_type": "stream",
          "name": "stdout",
          "text": [
            "2/2 [==============================] - 0s 7ms/step - loss: 0.0043 - accuracy: 1.0000\n"
          ]
        },
        {
          "output_type": "execute_result",
          "data": {
            "text/plain": [
              "[0.004276647698134184, 1.0]"
            ]
          },
          "metadata": {},
          "execution_count": 25
        }
      ]
    },
    {
      "cell_type": "code",
      "metadata": {
        "colab": {
          "base_uri": "https://localhost:8080/"
        },
        "id": "1qA5mtiv2kzz",
        "outputId": "8e4b91d7-3d40-40ce-dc39-c94b17b9f408"
      },
      "source": [
        "model.evaluate(X_val , y_val)"
      ],
      "execution_count": null,
      "outputs": [
        {
          "output_type": "stream",
          "name": "stdout",
          "text": [
            "2/2 [==============================] - 0s 9ms/step - loss: 0.0584 - accuracy: 0.9714\n"
          ]
        },
        {
          "output_type": "execute_result",
          "data": {
            "text/plain": [
              "[0.05836768075823784, 0.9714285731315613]"
            ]
          },
          "metadata": {},
          "execution_count": 26
        }
      ]
    },
    {
      "cell_type": "code",
      "metadata": {
        "colab": {
          "base_uri": "https://localhost:8080/"
        },
        "id": "H28ylzhO2rkF",
        "outputId": "b623b6de-8ec6-4cfb-fe73-52824418f4de"
      },
      "source": [
        "for i in range(30):\n",
        "  sample = X_test[i]\n",
        "  sample = np.reshape(sample, (1,30))\n",
        "\n",
        "  if (model.predict(sample)[0][0] > 0.5):\n",
        "    print(\"-Benign\")\n",
        "  else:\n",
        "    print(\"-Malignant\")\n",
        "\n",
        "  if (y_test[i] == 1):\n",
        "    print(\"*Banign\")\n",
        "  else:\n",
        "    print(\"*Melignant\")\n",
        "  print(\"-----------\")"
      ],
      "execution_count": null,
      "outputs": [
        {
          "output_type": "stream",
          "name": "stdout",
          "text": [
            "-Malignant\n",
            "*Melignant\n",
            "-----------\n",
            "-Benign\n",
            "*Banign\n",
            "-----------\n",
            "-Benign\n",
            "*Banign\n",
            "-----------\n",
            "-Benign\n",
            "*Banign\n",
            "-----------\n",
            "-Malignant\n",
            "*Melignant\n",
            "-----------\n",
            "-Malignant\n",
            "*Melignant\n",
            "-----------\n",
            "-Benign\n",
            "*Banign\n",
            "-----------\n",
            "-Benign\n",
            "*Banign\n",
            "-----------\n",
            "-Benign\n",
            "*Banign\n",
            "-----------\n",
            "-Malignant\n",
            "*Melignant\n",
            "-----------\n",
            "-Benign\n",
            "*Banign\n",
            "-----------\n",
            "-Malignant\n",
            "*Melignant\n",
            "-----------\n",
            "-Benign\n",
            "*Banign\n",
            "-----------\n",
            "-Benign\n",
            "*Banign\n",
            "-----------\n",
            "-Benign\n",
            "*Banign\n",
            "-----------\n",
            "-Malignant\n",
            "*Melignant\n",
            "-----------\n",
            "-Benign\n",
            "*Banign\n",
            "-----------\n",
            "-Malignant\n",
            "*Melignant\n",
            "-----------\n",
            "-Malignant\n",
            "*Melignant\n",
            "-----------\n",
            "-Malignant\n",
            "*Melignant\n",
            "-----------\n",
            "-Malignant\n",
            "*Melignant\n",
            "-----------\n",
            "-Benign\n",
            "*Banign\n",
            "-----------\n",
            "-Malignant\n",
            "*Melignant\n",
            "-----------\n",
            "-Benign\n",
            "*Banign\n",
            "-----------\n",
            "-Malignant\n",
            "*Melignant\n",
            "-----------\n",
            "-Malignant\n",
            "*Melignant\n",
            "-----------\n",
            "-Malignant\n",
            "*Melignant\n",
            "-----------\n",
            "-Benign\n",
            "*Banign\n",
            "-----------\n",
            "-Benign\n",
            "*Banign\n",
            "-----------\n",
            "-Benign\n",
            "*Banign\n",
            "-----------\n"
          ]
        }
      ]
    },
    {
      "cell_type": "code",
      "metadata": {
        "id": "1K_S3I8f2yEu"
      },
      "source": [
        ""
      ],
      "execution_count": null,
      "outputs": []
    },
    {
      "cell_type": "code",
      "metadata": {
        "id": "pZ-yVGdZ3a6K"
      },
      "source": [
        ""
      ],
      "execution_count": null,
      "outputs": []
    }
  ]
}